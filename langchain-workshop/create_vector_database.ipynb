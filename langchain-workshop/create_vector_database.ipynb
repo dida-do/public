{
 "cells": [
  {
   "cell_type": "code",
   "execution_count": null,
   "metadata": {},
   "outputs": [],
   "source": [
    "import torch\n",
    "\n",
    "# Check if CUDA is available\n",
    "# it is not requires to use cuda.\n",
    "torch.cuda.is_available()"
   ]
  },
  {
   "cell_type": "markdown",
   "metadata": {},
   "source": [
    "Bevore you run the script download the following papers and store it in `langchain-workshop/llm-papers`. You can also skip the downloading by using one the cell I mentioned below.\n",
    "\n",
    "[dpo](https://arxiv.org/abs/2305.18290)\n",
    "\n",
    "[self-rag](https://arxiv.org/abs/2310.11511)\n",
    "\n",
    "[medagents](https://arxiv.org/abs/2311.10537)\n",
    "\n",
    "[raptor](https://arxiv.org/abs/2401.18059)\n",
    "\n",
    "[replacing judges with juries](https://arxiv.org/abs/2404.18796)\n",
    "\n",
    "[IPO](https://arxiv.org/abs/2404.19733)\n",
    "\n",
    "[lora land](https://arxiv.org/abs/2405.00732)\n",
    "\n"
   ]
  },
  {
   "cell_type": "markdown",
   "metadata": {},
   "source": [
    "```python\n",
    "from langchain_community.document_loaders import ArxivLoader\n",
    "\n",
    "\n",
    "arxiv_ids = [\"2305.18290\",\"2310.11511\",\"2311.10537\",\"2401.18059\",\"2404.18796,\"2404.19733\",\"2405.00732\"]\n",
    "\n",
    "docs = []\n",
    "for arxiv_id in arxiv_ids:\n",
    "    doc = ArxivLoader(query=\"2305.18290\", load_max_docs=1).load()[0]\n",
    "    doc.metadata = {\"metadata\":doc.metdata}\n",
    "    \n",
    "```\n"
   ]
  },
  {
   "cell_type": "code",
   "execution_count": null,
   "metadata": {},
   "outputs": [],
   "source": [
    "from langchain.text_splitter import RecursiveCharacterTextSplitter\n",
    "from pathlib import Path\n",
    "from transformers import (\n",
    "    AutoTokenizer,\n",
    ")\n",
    "from langchain_community.embeddings import HuggingFaceEmbeddings\n",
    "\n",
    "from langchain_community.document_loaders import PyPDFLoader\n",
    "from langchain.vectorstores import Qdrant\n",
    "import platform\n",
    "\n",
    "\n",
    "def check_os() -> str:\n",
    "    \"\"\"Check the OS of the system\"\"\"\n",
    "    os_name = platform.system()\n",
    "    return os_name\n",
    "# loading the embedding model\n",
    "embedding_path = Path(\"huggingface_models\",\"BAAI\",\"bge-large-en-v1.5\")\n",
    "embeddings = HuggingFaceEmbeddings(model_name=embedding_path)\n",
    "emb_tokenizer = AutoTokenizer.from_pretrained(embedding_path)\n",
    "def _measure_length_with_tokenizer(text: str) -> int:\n",
    "    \"\"\"Measure the length of the text with tokenizer.\n",
    "\n",
    "    Args:\n",
    "        text: the text to be measured.\n",
    "\n",
    "    Returns:\n",
    "        The number of tokens of the input text.\n",
    "    \"\"\"\n",
    "    return len(emb_tokenizer.encode(text))\n",
    "# Create a text splitter\n",
    "text_splitter = RecursiveCharacterTextSplitter(\n",
    "    chunk_size=450,\n",
    "    chunk_overlap=0,\n",
    "    length_function=_measure_length_with_tokenizer,\n",
    "    separators=[\"\\n\\n\", \"\\n\", \".\", \"?\", \":\", \",\", \":\", \"!\", \" \", \"\"],\n",
    ")\n"
   ]
  },
  {
   "cell_type": "markdown",
   "metadata": {},
   "source": [
    "You can replace the cell below with \n",
    "\n",
    "\n",
    "```python\n",
    "from langchain_community.document_loaders import ArxivLoader\n",
    "\n",
    "\n",
    "arxiv_ids = [\"2305.18290\",\"2310.11511\",\"2311.10537\",\"2401.18059\",\"2404.18796,\"2404.19733\",\"2405.00732\"]\n",
    "\n",
    "docs = []\n",
    "for arxiv_id in arxiv_ids:\n",
    "    doc = ArxivLoader(query=\"2305.18290\", load_max_docs=1).load()[0]\n",
    "    doc.metadata = {\"metadata\":doc.metdata}\n",
    "    \n",
    "```\n"
   ]
  },
  {
   "cell_type": "code",
   "execution_count": null,
   "metadata": {},
   "outputs": [],
   "source": [
    "docs = []\n",
    "paper_paths = list(Path(\"llm-papers\").glob(\"*.pdf\"))\n",
    "docs = []\n",
    "if check_os() == \"Windows\":\n",
    "    title_splitter = \"\\\\\"\n",
    "else:\n",
    "    title_splitter = \"/\"\n",
    "for paper in paper_paths:\n",
    "    paper_pages = PyPDFLoader(str(paper)).load()\n",
    "    title = paper_pages[0].metadata[\"source\"]\n",
    "    normalized_title = \" \".join(\n",
    "        title.split(title_splitter)[-1][:-4].replace(\"_\", \" \").split(\".\")[-1].split()\n",
    "    )\n",
    "    content = \"\"\n",
    "    for page in paper_pages:\n",
    "        content += page.page_content + \"\\n\"\n",
    "    paper_pages[0].page_content = content\n",
    "    paper_pages[0].metadata = {\"source\": normalized_title}\n",
    "    docs.append(paper_pages[0])"
   ]
  },
  {
   "cell_type": "markdown",
   "metadata": {},
   "source": [
    "# splitting the document into chunks"
   ]
  },
  {
   "cell_type": "code",
   "execution_count": null,
   "metadata": {},
   "outputs": [],
   "source": [
    "splits = text_splitter.split_documents(docs)\n",
    "chunk_index = 0\n",
    "current_title = \"\"\n",
    "for split in splits:\n",
    "    if current_title != split.metadata[\"source\"]:\n",
    "        chunk_index = 0\n",
    "        current_title = split.metadata[\"source\"]\n",
    "    split.metadata[\"chunk\"] = chunk_index\n",
    "    split.metadata = {\"metadata\": split.metadata}\n",
    "    chunk_index += 1"
   ]
  },
  {
   "cell_type": "markdown",
   "metadata": {},
   "source": [
    "# Create a local qdrant database"
   ]
  },
  {
   "cell_type": "code",
   "execution_count": null,
   "metadata": {},
   "outputs": [],
   "source": [
    "qdrant = Qdrant.from_documents(\n",
    "    splits,\n",
    "    embeddings,\n",
    "    path=\"./qdrant-database\",\n",
    "    collection_name=\"llm_papers\",\n",
    ")"
   ]
  },
  {
   "cell_type": "code",
   "execution_count": null,
   "metadata": {},
   "outputs": [],
   "source": [
    "qdrant.search(\"self-rag\", search_type=\"similarity\", k=5)"
   ]
  }
 ],
 "metadata": {
  "language_info": {
   "name": "python"
  }
 },
 "nbformat": 4,
 "nbformat_minor": 2
}
