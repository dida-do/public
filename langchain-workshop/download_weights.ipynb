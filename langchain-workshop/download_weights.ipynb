{
 "cells": [
  {
   "cell_type": "code",
   "execution_count": null,
   "metadata": {},
   "outputs": [],
   "source": [
    "from pathlib import Path\n",
    "\n",
    "from huggingface_hub import snapshot_download\n",
    "\n",
    "\n",
    "def download_model(\n",
    "    model_id: str,\n",
    "    save_dir: str | Path,\n",
    "    revision: str | None = None,\n",
    "    token: str | None = None,\n",
    ") -> None:\n",
    "    \"\"\"Download a model from Huggingface Hub.\n",
    "\n",
    "    Args:\n",
    "        model_id:\n",
    "            The model ID.\n",
    "        revision:\n",
    "            A Git revision ID. Can be a branch name, a tag, or a commit\n",
    "            hash.\n",
    "        token:\n",
    "            An access token to use for authentication.\n",
    "\n",
    "    \"\"\"\n",
    "    local_dir = Path(save_dir, model_id)\n",
    "\n",
    "    snapshot_download(\n",
    "        repo_id=model_id,\n",
    "        revision=revision,\n",
    "        local_dir=local_dir,\n",
    "        local_dir_use_symlinks=False,\n",
    "        token=token,\n",
    "        ignore_patterns=[\"*onnx*\", \"*.bin\"],\n",
    "    )"
   ]
  },
  {
   "cell_type": "code",
   "execution_count": null,
   "metadata": {},
   "outputs": [],
   "source": [
    "download_model(\"BAAI/bge-large-en-v1.5\", \"huggingface_models\")"
   ]
  },
  {
   "cell_type": "code",
   "execution_count": null,
   "metadata": {},
   "outputs": [],
   "source": [
    "download_model(\"BAAI/bge-reranker-large\", \"huggingface_models\")"
   ]
  },
  {
   "cell_type": "code",
   "execution_count": null,
   "metadata": {},
   "outputs": [],
   "source": []
  }
 ],
 "metadata": {
  "language_info": {
   "name": "python"
  }
 },
 "nbformat": 4,
 "nbformat_minor": 2
}
