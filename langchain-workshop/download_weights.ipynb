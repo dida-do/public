{
 "cells": [
  {
   "cell_type": "code",
   "execution_count": 1,
   "metadata": {},
   "outputs": [
    {
     "name": "stderr",
     "output_type": "stream",
     "text": [
      "d:\\projects\\dida-langchain-workshop\\.venv\\Lib\\site-packages\\tqdm\\auto.py:21: TqdmWarning: IProgress not found. Please update jupyter and ipywidgets. See https://ipywidgets.readthedocs.io/en/stable/user_install.html\n",
      "  from .autonotebook import tqdm as notebook_tqdm\n"
     ]
    }
   ],
   "source": [
    "from pathlib import Path\n",
    "\n",
    "from huggingface_hub import snapshot_download\n",
    "\n",
    "\n",
    "def download_model(\n",
    "    model_id: str,\n",
    "    save_dir: str | Path,\n",
    "    revision: str | None = None,\n",
    "    token: str | None = None,\n",
    ") -> None:\n",
    "    \"\"\"Download a model from Huggingface Hub.\n",
    "\n",
    "    Args:\n",
    "        model_id:\n",
    "            The model ID.\n",
    "        revision:\n",
    "            A Git revision ID. Can be a branch name, a tag, or a commit\n",
    "            hash.\n",
    "        token:\n",
    "            An access token to use for authentication.\n",
    "\n",
    "    \"\"\"\n",
    "    local_dir = Path(save_dir, model_id)\n",
    "\n",
    "    snapshot_download(\n",
    "        repo_id=model_id,\n",
    "        revision=revision,\n",
    "        local_dir=local_dir,\n",
    "        local_dir_use_symlinks=False,\n",
    "        token=token,\n",
    "        ignore_patterns=[\"*onnx*\", \"*.bin\"],\n",
    "    )"
   ]
  },
  {
   "cell_type": "code",
   "execution_count": 2,
   "metadata": {},
   "outputs": [
    {
     "name": "stderr",
     "output_type": "stream",
     "text": [
      "d:\\projects\\dida-langchain-workshop\\.venv\\Lib\\site-packages\\huggingface_hub\\file_download.py:1194: UserWarning: `local_dir_use_symlinks` parameter is deprecated and will be ignored. The process to download files to a local folder has been updated and do not rely on symlinks anymore. You only need to pass a destination folder as`local_dir`.\n",
      "For more details, check out https://huggingface.co/docs/huggingface_hub/main/en/guides/download#download-files-to-local-folder.\n",
      "  warnings.warn(\n",
      "Fetching 12 files: 100%|██████████| 12/12 [01:52<00:00,  9.39s/it]\n"
     ]
    }
   ],
   "source": [
    "download_model(\"BAAI/bge-large-en-v1.5\", \"huggingface_models\")"
   ]
  },
  {
   "cell_type": "code",
   "execution_count": 3,
   "metadata": {},
   "outputs": [
    {
     "name": "stderr",
     "output_type": "stream",
     "text": [
      "Fetching 8 files: 100%|██████████| 8/8 [03:09<00:00, 23.75s/it]\n"
     ]
    }
   ],
   "source": [
    "download_model(\"BAAI/bge-reranker-large\", \"huggingface_models\")"
   ]
  },
  {
   "cell_type": "code",
   "execution_count": null,
   "metadata": {},
   "outputs": [],
   "source": []
  }
 ],
 "metadata": {
  "language_info": {
   "name": "python"
  }
 },
 "nbformat": 4,
 "nbformat_minor": 2
}
