{
 "cells": [
  {
   "cell_type": "markdown",
   "id": "a1a4b67d",
   "metadata": {},
   "source": [
    "# Image Class Labeling Tool\n",
    "This notbook serves to assign labels to .jpg image files in a directory.\n",
    "\n",
    "To use this notebook, please open it in jupyter and run the cells below.\n",
    "Replace the `path=\"./data\"` argument if you want to label your own image directory.\n",
    "You can start labeling after running the last code cell.\n",
    "\n",
    "Note:\n",
    "    In case there are issues displaying the labeling tool in your notebook environment, it is possible that JavaScript is disabled in notebooks.\n",
    "    Try to run the following command in a terminal to enable it, then refresh you browser:\n",
    "    `jupyter nbextension enable --py widgetsnbextension --sys-prefix`"
   ]
  },
  {
   "cell_type": "code",
   "execution_count": 1,
   "id": "a63f6b9c",
   "metadata": {},
   "outputs": [],
   "source": [
    "from labelingtool import LabelingTool"
   ]
  },
  {
   "cell_type": "code",
   "execution_count": 2,
   "id": "5449115a",
   "metadata": {},
   "outputs": [],
   "source": [
    "tool = LabelingTool(path=\"./data\", classes=[\"hotdog\", \"not hotdog\"])"
   ]
  },
  {
   "cell_type": "code",
   "execution_count": 3,
   "id": "bb96de91",
   "metadata": {},
   "outputs": [
    {
     "data": {
      "application/vnd.jupyter.widget-view+json": {
       "model_id": "320394de95f24ae2bbe9fb1624b72b87",
       "version_major": 2,
       "version_minor": 0
      },
      "text/plain": [
       "Output(layout=Layout(height='300px', max_width='300px'))"
      ]
     },
     "metadata": {},
     "output_type": "display_data"
    },
    {
     "data": {
      "application/vnd.jupyter.widget-view+json": {
       "model_id": "8a8758a1e1e945cf89297b7274f634e7",
       "version_major": 2,
       "version_minor": 0
      },
      "text/plain": [
       "HBox(children=(Button(description='< go back', style=ButtonStyle()), Button(description='next >', style=Button…"
      ]
     },
     "metadata": {},
     "output_type": "display_data"
    },
    {
     "data": {
      "application/vnd.jupyter.widget-view+json": {
       "model_id": "255d9c33115d44eaa51f8a5406d997e0",
       "version_major": 2,
       "version_minor": 0
      },
      "text/plain": [
       "HBox(children=(Button(description='hotdog', style=ButtonStyle()), Button(description='not hotdog', style=Butto…"
      ]
     },
     "metadata": {},
     "output_type": "display_data"
    }
   ],
   "source": [
    "tool.start()"
   ]
  }
 ],
 "metadata": {
  "kernelspec": {
   "display_name": "Python 3",
   "language": "python",
   "name": "python3"
  },
  "language_info": {
   "codemirror_mode": {
    "name": "ipython",
    "version": 3
   },
   "file_extension": ".py",
   "mimetype": "text/x-python",
   "name": "python",
   "nbconvert_exporter": "python",
   "pygments_lexer": "ipython3",
   "version": "3.9.7"
  }
 },
 "nbformat": 4,
 "nbformat_minor": 5
}
