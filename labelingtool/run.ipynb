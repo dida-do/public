{
 "cells": [
  {
   "cell_type": "markdown",
   "id": "a1a4b67d",
   "metadata": {},
   "source": [
    "# Image Class Labeling Tool\n",
    "This notbook serves to assign labels to .jpg image files in a directory.\n",
    "\n",
    "To use this notebook, please open it in jupyter and run the cells below.\n",
    "Replace the `path=\"./data\"` argument if you want to label your own image directory.\n",
    "You can start labeling after running the last code cell.\n",
    "\n",
    "Note:\n",
    "    In case there are issues displaying the labeling tool in your notebook environment, it is possible that JavaScript is disabled in notebooks.\n",
    "    Try to run the following command in a terminal to enable it, then refresh you browser:\n",
    "    `jupyter nbextension enable --py widgetsnbextension --sys-prefix`"
   ]
  },
  {
   "cell_type": "code",
   "execution_count": 1,
   "id": "a63f6b9c",
   "metadata": {},
   "outputs": [],
   "source": [
    "from labelingtool import LabelingTool"
   ]
  },
  {
   "cell_type": "code",
   "execution_count": 2,
   "id": "5449115a",
   "metadata": {},
   "outputs": [],
   "source": [
    "tool = LabelingTool(path=\"./data\", classes=[\"hotdog\", \"not hotdog\"])"
   ]
  },
  {
   "cell_type": "code",
   "execution_count": 3,
   "id": "bb96de91",
   "metadata": {},
   "outputs": [
    {
     "data": {
      "application/vnd.jupyter.widget-view+json": {
       "model_id": "421081157fce48b994be20dc2458059d",
       "version_major": 2,
       "version_minor": 0
      },
      "text/plain": [
       "Output(layout=Layout(height='300px', max_width='300px'))"
      ]
     },
     "metadata": {},
     "output_type": "display_data"
    },
    {
     "data": {
      "application/vnd.jupyter.widget-view+json": {
       "model_id": "5929bcda415e4c3cba8cebfa666946ae",
       "version_major": 2,
       "version_minor": 0
      },
      "text/plain": [
       "HBox(children=(Button(description='< go back', style=ButtonStyle()), Button(description='next >', style=Button…"
      ]
     },
     "metadata": {},
     "output_type": "display_data"
    },
    {
     "data": {
      "application/vnd.jupyter.widget-view+json": {
       "model_id": "3aa37a2af6994c059181c029b3d963f5",
       "version_major": 2,
       "version_minor": 0
      },
      "text/plain": [
       "HBox(children=(Button(description='hotdog', style=ButtonStyle()), Button(description='not hotdog', style=Butto…"
      ]
     },
     "metadata": {},
     "output_type": "display_data"
    }
   ],
   "source": [
    "tool.start()"
   ]
  },
  {
   "cell_type": "code",
   "execution_count": 4,
   "id": "d32f9c22",
   "metadata": {},
   "outputs": [
    {
     "name": "stdout",
     "output_type": "stream",
     "text": [
      "{}\n"
     ]
    }
   ],
   "source": [
    "print(tool.labels)"
   ]
  }
 ],
 "metadata": {
  "kernelspec": {
   "display_name": "Python 3",
   "language": "python",
   "name": "python3"
  },
  "language_info": {
   "codemirror_mode": {
    "name": "ipython",
    "version": 3
   },
   "file_extension": ".py",
   "mimetype": "text/x-python",
   "name": "python",
   "nbconvert_exporter": "python",
   "pygments_lexer": "ipython3",
   "version": "3.6.9"
  }
 },
 "nbformat": 4,
 "nbformat_minor": 5
}
